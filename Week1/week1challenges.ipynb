{
 "cells": [
  {
   "cell_type": "markdown",
   "id": "e825874b",
   "metadata": {},
   "source": [
    "# First python notebook\n",
    "### Week 1 programming challenges"
   ]
  },
  {
   "cell_type": "code",
   "execution_count": 19,
   "id": "4f8c8402",
   "metadata": {},
   "outputs": [],
   "source": [
    "def greet(user):\n",
    "    '''Greets the named user''' \n",
    "    print(f'Hello {user} nice to meet you.')"
   ]
  },
  {
   "cell_type": "code",
   "execution_count": 20,
   "id": "a8dbf341",
   "metadata": {},
   "outputs": [
    {
     "name": "stdout",
     "output_type": "stream",
     "text": [
      "Hello Dexter nice to meet you.\n"
     ]
    }
   ],
   "source": [
    "    greet (\"Dexter\")"
   ]
  },
  {
   "cell_type": "code",
   "execution_count": 21,
   "id": "c25b637c",
   "metadata": {},
   "outputs": [
    {
     "ename": "SyntaxError",
     "evalue": "'(' was never closed (1067032953.py, line 3)",
     "output_type": "error",
     "traceback": [
      "  \u001b[36mCell\u001b[39m\u001b[36m \u001b[39m\u001b[32mIn[21]\u001b[39m\u001b[32m, line 3\u001b[39m\n\u001b[31m    \u001b[39m\u001b[31mtemp = float(input(\" Enter celcius temp:\")\u001b[39m\n                ^\n\u001b[31mSyntaxError\u001b[39m\u001b[31m:\u001b[39m '(' was never closed\n"
     ]
    }
   ],
   "source": [
    "def tempConverter():\n",
    "    '''Tem converter'''\n",
    "    temp = float(input(\" Enter celcius temp:\")\n",
    "    f = (temp*9)/5+32\n",
    "    print(\"f {temp}C is {f} F\")\n",
    "FTempConverter()"
   ]
  }
 ],
 "metadata": {
  "kernelspec": {
   "display_name": "Python 3 (ipykernel)",
   "language": "python",
   "name": "python3"
  },
  "language_info": {
   "codemirror_mode": {
    "name": "ipython",
    "version": 3
   },
   "file_extension": ".py",
   "mimetype": "text/x-python",
   "name": "python",
   "nbconvert_exporter": "python",
   "pygments_lexer": "ipython3",
   "version": "3.12.1"
  }
 },
 "nbformat": 4,
 "nbformat_minor": 5
}
