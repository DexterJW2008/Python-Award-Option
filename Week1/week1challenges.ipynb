{
 "cells": [
  {
   "cell_type": "markdown",
   "id": "e825874b",
   "metadata": {},
   "source": [
    "# First python notebook\n",
    "### Week 1 programming challenges"
   ]
  },
  {
   "cell_type": "code",
   "execution_count": 1,
   "id": "4f8c8402",
   "metadata": {},
   "outputs": [],
   "source": [
    "def greet(user):\n",
    "    '''Greets the named user''' \n",
    "    print(f'Hello {user} nice to meet you.')"
   ]
  },
  {
   "cell_type": "code",
   "execution_count": 2,
   "id": "a8dbf341",
   "metadata": {},
   "outputs": [
    {
     "name": "stdout",
     "output_type": "stream",
     "text": [
      "Hello Dexter nice to meet you.\n"
     ]
    }
   ],
   "source": [
    "    greet (\"Dexter\")"
   ]
  },
  {
   "cell_type": "code",
   "execution_count": 3,
   "id": "c25b637c",
   "metadata": {},
   "outputs": [
    {
     "name": "stdout",
     "output_type": "stream",
     "text": [
      " 50.0C is 122.0 F\n"
     ]
    }
   ],
   "source": [
    "def FTempConverter():\n",
    "    '''Tem converter'''\n",
    "    temp = float(input(\" Enter celcius temp:\"))\n",
    "    f = (temp*9)/5+32\n",
    "    print(f\" {temp}C is {f} F\")\n",
    "FTempConverter()"
   ]
  },
  {
   "cell_type": "code",
   "execution_count": null,
   "id": "6ac473ca",
   "metadata": {},
   "outputs": [
    {
     "name": "stdout",
     "output_type": "stream",
     "text": [
      "....Computer is making its choice....\n",
      "....Computer had made its choice....\n",
      "I do not know who wins\n"
     ]
    }
   ],
   "source": [
    "def rockPaperScissors():\n",
    "    '''simulate rock paper scissors game'''\n",
    "    from random import randint,choice\n",
    "    from time import sleep\n",
    "    choices = ['r','p','s']\n",
    "\n",
    "    print('....Computer is making its choice....')\n",
    "    getCompChoice = choice(choices)\n",
    "    sleep(2)\n",
    "    print('....Computer had made its choice....')\n",
    "    #print(getChoice)\n",
    "    userChoice = input('Enter your choice [\"r\", \"p\", \"s\"]: ')\n",
    "\n",
    "    if getCompChoice == \"r\" and userChoice == \"p\":\n",
    "        print('.... determining winner....')\n",
    "        sleep(2)\n",
    "        print(' you win because paper beat rock')\n",
    "    elif getCompChoice == \"p\" and userChoice == \"s\": \n",
    "        print('.... determining winner....')\n",
    "        sleep(2)\n",
    "        print(' you win because scissors beat paper')\n",
    "    elif getCompChoice == \"s\" and userChoice == \"r\": \n",
    "        print('.... determining winner.....')\n",
    "        sleep(2)\n",
    "        print('you win because rock beat scissors')\n",
    "    elif getCompChoice == \"p\" and userChoice == \"r\": \n",
    "        print('.... determining winner....')\n",
    "        sleep(2)\n",
    "        print(' Computer win because paper beat rock')\n",
    "    elif getCompChoice == \"r\" and userChoice == \"s\": \n",
    "        print('.... determining winner....')\n",
    "        sleep(2)\n",
    "        print(' Computer win because rock beat scissors')\n",
    "    elif getCompChoice == \"s\" and userChoice == \"rp\": \n",
    "        print('.... determining winner....')\n",
    "        sleep(2)\n",
    "        print(' Computer win because scissors beat paper')\n",
    "    else: \n",
    "        print('I do not know who wins')\n",
    "\n",
    "rockPaperScissors()"
   ]
  }
 ],
 "metadata": {
  "kernelspec": {
   "display_name": "Python 3 (ipykernel)",
   "language": "python",
   "name": "python3"
  },
  "language_info": {
   "codemirror_mode": {
    "name": "ipython",
    "version": 3
   },
   "file_extension": ".py",
   "mimetype": "text/x-python",
   "name": "python",
   "nbconvert_exporter": "python",
   "pygments_lexer": "ipython3",
   "version": "3.12.1"
  }
 },
 "nbformat": 4,
 "nbformat_minor": 5
}
